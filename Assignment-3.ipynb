{
 "cells": [
  {
   "cell_type": "code",
   "execution_count": 1,
   "id": "d5299994",
   "metadata": {},
   "outputs": [
    {
     "name": "stdout",
     "output_type": "stream",
     "text": [
      "Twinkle, twinkle, little star,\n",
      "\t How I wonder what you are! \n",
      "\t\t Up above the world so high,\n",
      "\t\t Like a diamond in the sky.\n",
      "Twinkle, twinkle, little star,\n",
      "\t How I wonder what you are!\n"
     ]
    }
   ],
   "source": [
    "#  '''Write a Python program to print the following string in a specific format (see the output)'''\n",
    "# '''Twinkle, twinkle, little star,'''\n",
    "# '''How I wonder what you are!'''\n",
    "# '''Up above the world so high,'''\n",
    "# '''Like a diamond in the sky.'''\n",
    "# '''Twinkle, twinkle, little star,'''\n",
    "# '''How I wonder what you are''' \n",
    "\n",
    "poem= \"Twinkle, twinkle, little star,\\n\\t How I wonder what you are! \\n\\t\\t Up above the world so high,\\n\\t\\t Like a diamond in the sky.\\nTwinkle, twinkle, little star,\\n\\t How I wonder what you are!\";\n",
    "print(poem);\n"
   ]
  },
  {
   "cell_type": "code",
   "execution_count": 2,
   "id": "1c774459",
   "metadata": {},
   "outputs": [
    {
     "name": "stdout",
     "output_type": "stream",
     "text": [
      "\n",
      "TASK2:\n",
      "\n",
      "Python Version: 3.8.8 (default, Apr 13 2021, 15:08:03) [MSC v.1916 64 bit (AMD64)]\n"
     ]
    }
   ],
   "source": [
    "# '''Write a Python program to get the Python version you are using'''\n",
    "\n",
    "print(\"\\nTASK2:\\n\");\n",
    "import sys;\n",
    "version= sys.version;\n",
    "print(\"Python Version:\",version);"
   ]
  },
  {
   "cell_type": "code",
   "execution_count": 3,
   "id": "da0dbe01",
   "metadata": {},
   "outputs": [
    {
     "name": "stdout",
     "output_type": "stream",
     "text": [
      "\n",
      "TASK3:\n",
      "\n",
      "Current Time: 05:15:37\n"
     ]
    }
   ],
   "source": [
    "# '''Write a Python program to display the current date and time.'''\n",
    "\n",
    "print(\"\\nTASK3:\\n\");\n",
    "from datetime import datetime;\n",
    "# today = date.today();\n",
    "now = datetime.now();\n",
    "current_time = now.strftime(\"%H:%M:%S\");\n",
    "# print(\"Current Date:\",today);\n",
    "print(\"Current Time:\",current_time);"
   ]
  },
  {
   "cell_type": "code",
   "execution_count": 4,
   "id": "34ddff23",
   "metadata": {},
   "outputs": [
    {
     "name": "stdout",
     "output_type": "stream",
     "text": [
      "Enter the radius of the circle::\n",
      "\n",
      "13\n",
      "Diameter       =  26.0 units\n",
      "Circumference  =  81.68140899333463 units\n",
      "Area           =  530.929158456675  sq. units\n"
     ]
    }
   ],
   "source": [
    "# '''Write a Python program which accepts the radius of a circle from the user and compute the area.'''\n",
    "import math\n",
    "\n",
    "print(\"Enter the radius of the circle::\\n\")\n",
    "\n",
    "r, d, c, a = float(input()), None, None, None\n",
    "\n",
    "# r = radius\n",
    "# d = diameter\n",
    "# c = circumference\n",
    "# a = area\n",
    "\n",
    "# Calculation of diameter, circumference and area\n",
    "d = 2 * r\n",
    "c = 2 * math.pi * r\n",
    "a = math.pi * (r * r)\n",
    "\n",
    "print(\"Diameter       = \", d, \"units\")\n",
    "print(\"Circumference  = \", c, \"units\")\n",
    "print(\"Area           = \", a, \" sq. units\")"
   ]
  },
  {
   "cell_type": "code",
   "execution_count": 5,
   "id": "97fdd2cc",
   "metadata": {},
   "outputs": [
    {
     "name": "stdout",
     "output_type": "stream",
     "text": [
      "Input your First Name : AHMED ALI \n",
      "Input your Last Name : SHAH\n",
      "Hello  SHAH AHMED ALI \n"
     ]
    }
   ],
   "source": [
    "# '''Write a Python program which accepts the user's first and last name and print them in reverse order with a space between them'''\n",
    "\n",
    "first_name = input(\"Input your First Name : \")\n",
    "last_name = input(\"Input your Last Name : \")\n",
    "print (\"Hello  \" + last_name + \" \" + first_name)"
   ]
  },
  {
   "cell_type": "code",
   "execution_count": 6,
   "id": "b3a311c0",
   "metadata": {},
   "outputs": [
    {
     "name": "stdout",
     "output_type": "stream",
     "text": [
      "Enter Employee Name: AHMED ALI SHAH\n",
      "Enter salary: 38600\n",
      "\n",
      "\n",
      "name salary\n"
     ]
    }
   ],
   "source": [
    "# '''Write a python program which takes two inputs from user and print them addition'''\n",
    "name = input(\"Enter Employee Name: \")\n",
    "salary = input(\"Enter salary: \")\n",
    "print(\"\\n\")\n",
    "print(\"name\", \"salary\")\n"
   ]
  },
  {
   "cell_type": "code",
   "execution_count": 7,
   "id": "3979a24e",
   "metadata": {},
   "outputs": [
    {
     "name": "stdout",
     "output_type": "stream",
     "text": [
      "Enter English Marks78\n",
      "Enter Islamiat Marks84\n",
      "Enter Maths Marks63\n",
      "Enter Chemistry Marks73\n",
      "Enter Physics Marks79\n",
      "obtain marks: 377 /500\n",
      " your Percentage: 75 %\n",
      "Grade A\n"
     ]
    }
   ],
   "source": [
    "# '''Write a program which takes 5 inputs from user for different subject’s marks, total itand generate mark sheet using grades ?'''\n",
    "\n",
    "eng = int(input(\"Enter English Marks\"))\n",
    "isl = int(input(\"Enter Islamiat Marks\"))\n",
    "math = int(input(\"Enter Maths Marks\"))\n",
    "chm = int(input(\"Enter Chemistry Marks\"))\n",
    "phy = int(input(\"Enter Physics Marks\"))\n",
    "total= eng + isl + math + chm + phy\n",
    "print(\"obtain marks:\",total,\"/500\")\n",
    "\n",
    "percent = total/500 * 100\n",
    "percentage = round(percent);\n",
    "if percent < 100 and percent > 0:\n",
    "    print(\" your Percentage:\",percentage, \"%\")\n",
    "else:\n",
    "    print(\"check your marks\")\n",
    "    \n",
    "if percent <=100 and percent >=80:\n",
    "    print(\"Grade A+\")\n",
    "elif percent <=79 and percent >=70:\n",
    "    print(\"Grade A\")\n",
    "elif percent <=69 and percent >=60:\n",
    "    print(\"Grade B\")\n",
    "elif percent <=59 and percent >=50:\n",
    "    print(\"Garde c\")    \n",
    "elif percent <=49 and percent >=40:\n",
    "    print(\"Garde D\")  \n",
    "elif percent <=39 and percent >=0:\n",
    "    print(\"fail\")"
   ]
  },
  {
   "cell_type": "code",
   "execution_count": 12,
   "id": "94d6ce40",
   "metadata": {},
   "outputs": [
    {
     "name": "stdout",
     "output_type": "stream",
     "text": [
      "Enter a number: 35\n",
      "35 is Odd\n"
     ]
    }
   ],
   "source": [
    "# '''Write a program which take input from user and identify that the given number is even or odd?'''\n",
    "\n",
    "num = int(input(\"Enter a number: \"))\n",
    "if (num % 2) == 0:\n",
    "   print(\"{0} is Even\".format(num))\n",
    "else:\n",
    "   print(\"{0} is Odd\".format(num))"
   ]
  },
  {
   "cell_type": "code",
   "execution_count": 13,
   "id": "afa319fd",
   "metadata": {},
   "outputs": [
    {
     "name": "stdout",
     "output_type": "stream",
     "text": [
      "The list is : [1, 4, 5, 7, 8]\n",
      "Length of list using naive method is : 5\n"
     ]
    }
   ],
   "source": [
    "# '''Write a program which print the length of the list?'''\n",
    "\n",
    "# Python code to demonstrate\n",
    "# length of list\n",
    "# using naive method\n",
    "  \n",
    "# Initializing list \n",
    "test_list = [ 1, 4, 5, 7, 8 ]\n",
    "  \n",
    "# Printing test_list\n",
    "print (\"The list is : \" + str(test_list))\n",
    "  \n",
    "# Finding length of list \n",
    "# using loop\n",
    "# Initializing counter\n",
    "counter = 0\n",
    "for i in test_list:\n",
    "      \n",
    "    # incrementing counter\n",
    "    counter = counter + 1\n",
    "  \n",
    "# Printing length of list \n",
    "print (\"Length of list using naive method is : \" + str(counter))"
   ]
  },
  {
   "cell_type": "code",
   "execution_count": 15,
   "id": "ddd593aa",
   "metadata": {},
   "outputs": [
    {
     "name": "stdout",
     "output_type": "stream",
     "text": [
      "490\n"
     ]
    }
   ],
   "source": [
    "# '''Write a Python program to sum all the numeric items in a list?'''\n",
    "\n",
    "numbers = [50, 20, 30, 40, 70, 90, 70, 120]\n",
    "sum = sum(numbers)\n",
    "print(sum)"
   ]
  },
  {
   "cell_type": "code",
   "execution_count": 16,
   "id": "d00ce622",
   "metadata": {},
   "outputs": [
    {
     "name": "stdout",
     "output_type": "stream",
     "text": [
      "\n",
      "Largest Number in the list is: 444\n"
     ]
    }
   ],
   "source": [
    "# '''Write a Python program to get the largest number from a numeric list.'''\n",
    "\n",
    "list=[12,44,55,66,77,33,444,55]\n",
    "largestno=max(list)\n",
    "print(\"\\nLargest Number in the list is:\",largestno)"
   ]
  },
  {
   "cell_type": "code",
   "execution_count": null,
   "id": "fcbf3c2f",
   "metadata": {},
   "outputs": [],
   "source": [
    "# '''Take a list, say for example this one :a = [1, 1, 2, 3, 5, 8, 13, 21, 34, 55, 89] Write a program that prints out all the elements of the list that are less than 5.'''\n",
    "\n",
    "a = [1, 2, 3, 4, 5, 6, 8, 7, 8, 9, 10, 11]\n",
    "for z in a:\n",
    "    if z < 5:\n",
    "        print(z);"
   ]
  }
 ],
 "metadata": {
  "kernelspec": {
   "display_name": "Python 3",
   "language": "python",
   "name": "python3"
  },
  "language_info": {
   "codemirror_mode": {
    "name": "ipython",
    "version": 3
   },
   "file_extension": ".py",
   "mimetype": "text/x-python",
   "name": "python",
   "nbconvert_exporter": "python",
   "pygments_lexer": "ipython3",
   "version": "3.8.8"
  }
 },
 "nbformat": 4,
 "nbformat_minor": 5
}
